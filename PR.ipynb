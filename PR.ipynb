{
 "cells": [
  {
   "cell_type": "markdown",
   "id": "e17fef87-d695-4f32-8eca-6fecf6a49033",
   "metadata": {},
   "source": [
    "## Polynomial Regression from Scratch using Python"
   ]
  },
  {
   "cell_type": "markdown",
   "id": "88bac56d-4bc7-4b0f-a418-f115338dc81a",
   "metadata": {},
   "source": [
    "### Linear Regression"
   ]
  },
  {
   "cell_type": "markdown",
   "id": "f09ec15e-3900-4a86-9362-c46774c06656",
   "metadata": {},
   "source": [
    "$$y = b_0 + b_1 x_1 + b_2 x_2 + b_3 x_3 + \\cdots + b_p x_p$$"
   ]
  },
  {
   "cell_type": "markdown",
   "id": "044e7437-9ea5-4462-9271-441419b48a64",
   "metadata": {},
   "source": [
    "$$ X^+ = (X^TX)^{-1}X^T $$"
   ]
  },
  {
   "cell_type": "markdown",
   "id": "a873b5ae-9e73-4444-941b-5cc0f4fd8a56",
   "metadata": {},
   "source": [
    "$$\\mathbf{b} = X^+ \\mathbf{y}$$"
   ]
  },
  {
   "cell_type": "markdown",
   "id": "3df5d20d-17e5-4637-9d12-55d09207dca0",
   "metadata": {},
   "source": [
    "$$\\mathbf{\\hat{y}} = \\mathbf{X}\\mathbf{b}$$"
   ]
  },
  {
   "cell_type": "markdown",
   "id": "b8a68250-baf2-4472-a658-2e322aa1bae0",
   "metadata": {},
   "source": [
    "$$ R^2 = 1 - \\frac{\\sum_{i=1}^{n}(y_i - \\hat{y_i})^2}{\\sum_{i=1}^{n}(y_i - \\bar{y})^2} $$"
   ]
  },
  {
   "cell_type": "code",
   "execution_count": 1,
   "id": "f7f57624-6533-4a94-a55c-180df4826f1c",
   "metadata": {},
   "outputs": [],
   "source": [
    "import numpy as np"
   ]
  },
  {
   "cell_type": "code",
   "execution_count": 2,
   "id": "14944eef-6253-45b1-80cd-fdb47a83a676",
   "metadata": {},
   "outputs": [],
   "source": [
    "class LinearRegression:\n",
    "    def __init__(self):\n",
    "        self.coef_ = None\n",
    "        self.intercept_ = None\n",
    "        \n",
    "    def fit(self, X, y):\n",
    "        # Add a column of ones to X for the intercept\n",
    "        X = np.c_[np.ones(X.shape[0]), X]   \n",
    "\n",
    "        # Compute pseudoinverse of X and use it to compute coefficients\n",
    "        X_pinv = np.linalg.pinv(X)\n",
    "        self.coef_ = X_pinv @ y  \n",
    "        self.intercept_ = self.coef_[0] \n",
    "    \n",
    "    def predict(self, X):\n",
    "        # Convert input to a NumPy array and add a column of ones to X for the intercept\n",
    "        X = np.c_[np.ones(np.array(X).shape[0]), np.array(X)]  \n",
    "        return X @ self.coef_\n",
    "    \n",
    "    def score(self, X, y):\n",
    "        y_pred = self.predict(X)\n",
    "        RSS = np.sum((y - y_pred) ** 2)\n",
    "        TSS = np.sum((y - np.mean(y)) ** 2)\n",
    "        r2score = 1 - (RSS / TSS)\n",
    "        return r2score"
   ]
  },
  {
   "cell_type": "markdown",
   "id": "91010558-03ca-45ea-9b59-181a8e638260",
   "metadata": {},
   "source": [
    "Linear regression and nonlinear regression are both statistical methods used to model the relationship between a dependent variable and one or more independent variables. The main difference between the two is that linear regression assumes a linear relationship between the variables, while nonlinear regression allows for a more complex, nonlinear relationship."
   ]
  },
  {
   "cell_type": "markdown",
   "id": "9c701b56-83ec-4c0b-af00-faef122365de",
   "metadata": {},
   "source": [
    "### Polynomial Regression"
   ]
  },
  {
   "cell_type": "markdown",
   "id": "b883df6e-511d-472b-888a-b52aa85f3b3b",
   "metadata": {},
   "source": [
    "Polynomial regression is a type of regression in which the independent variable is raised to a power, such as quadratic or cubic regression."
   ]
  },
  {
   "cell_type": "markdown",
   "id": "7344959b-0920-4359-98b5-16c2c3bc988a",
   "metadata": {},
   "source": [
    "## $$y = b_0 + b_1 x + b_2 x^2 + b_3 x^3 + \\cdots + b_n x^n$$"
   ]
  },
  {
   "cell_type": "markdown",
   "id": "98bea0aa-ff7b-4a45-bfb3-47343e5fe0cf",
   "metadata": {},
   "source": [
    "Polynomial regression is a type of regression analysis in which the relationship between the independent variable and the dependent variable is modeled as an n-th degree polynomial. "
   ]
  },
  {
   "cell_type": "markdown",
   "id": "791adc7f-1a5c-4ac5-9672-425ea380071f",
   "metadata": {},
   "source": [
    "Polynomial regression allows us to model nonlinear relationships between the dependent and independent variables by introducing higher-order terms (such as $x^2$, $x^3$, etc.) into the equation. This can be useful when the relationship between the variables is not linear and cannot be well approximated by a straight line. However, it's important to note that higher-order polynomials can be more complex and can overfit the data if the degree is too high, leading to poor generalization performance on new data."
   ]
  },
  {
   "cell_type": "markdown",
   "id": "f9c53f64-a2fc-4478-a4fd-16968b3f232a",
   "metadata": {},
   "source": [
    "### Types of Polynomial Regression"
   ]
  },
  {
   "cell_type": "markdown",
   "id": "81ecd677-4cdc-48d1-885e-59e177c3c862",
   "metadata": {},
   "source": [
    "There are several types of polynomial regression, based on the degree of the polynomial used in the regression equation. Here are some common types:\n",
    "\n",
    "<b>Linear regression (degree 1)</b>:\n",
    "This is the simplest form of polynomial regression, where the equation is a straight line. The equation is:\n",
    "\n",
    "$$y = b_0 + b_1 x$$\n",
    "\n",
    "where y is the dependent variable, x is the independent variable, $b_0$ is the intercept and $b_1$ is the slope.\n",
    "\n",
    "<i>Example: A study examining the relationship between age and income may use linear regression, where age is the independent variable and income is the dependent variable.</i>\n",
    "\n",
    "<b>Quadratic regression (degree 2)</b>:\n",
    "This type of regression uses a quadratic function to fit the data. The equation is:\n",
    "\n",
    "$$y = b_0 + b_1 x + b_2 x^2$$\n",
    "\n",
    "where y is the dependent variable, x is the independent variable, $b_0$ is the intercept, $b_1$ is the linear coefficient and $b_2$ is the quadratic coefficient.\n",
    "\n",
    "<i>Example: A study examining the relationship between distance and time taken to complete a race may use quadratic regression, where distance is the independent variable and time taken is the dependent variable.</i>\n",
    "\n",
    "<b>Cubic regression (degree 3)</b>:\n",
    "This type of regression uses a cubic function to fit the data. The equation is:\n",
    "\n",
    "$$y = b_0 + b_1 x + b_2 x^2 + b_3 x^3$$\n",
    "\n",
    "where y is the dependent variable, x is the independent variable, $b_0$ is the intercept, $b_1$ is the linear coefficient, $b_2$ is the quadratic coefficient and $b_3$ is the cubic coefficient.\n",
    "\n",
    "<i>Example: A study examining the relationship between temperature and volume of a gas may use cubic regression, where temperature is the independent variable and volume is the dependent variable.</i>"
   ]
  },
  {
   "cell_type": "code",
   "execution_count": 3,
   "id": "a08484b6-f6c7-42c7-9c4d-b89f20e705f9",
   "metadata": {},
   "outputs": [],
   "source": [
    "import pandas as pd\n",
    "\n",
    "# Set random seed for reproducibility\n",
    "np.random.seed(123)\n",
    "\n",
    "# Generate random data for temperature and volume, and round to 2 decimal places\n",
    "temp = np.round(np.random.uniform(low=0, high=100, size=10), 2)\n",
    "vol = np.round(0.5 * temp ** 3 - 5 * temp ** 2 + 100 * temp + np.random.normal(loc=0, scale=10, size=10), 2)\n",
    "\n",
    "df = pd.DataFrame({'Temperature': temp, 'Volume': vol})\n",
    "df.to_csv('data.csv', index=False)\n",
    "\n",
    "df.sort_values(by='Temperature', inplace=True, ignore_index=True)"
   ]
  },
  {
   "cell_type": "code",
   "execution_count": 4,
   "id": "eb361f26-872b-4115-bc9a-2b921b940742",
   "metadata": {},
   "outputs": [
    {
     "data": {
      "text/html": [
       "<div>\n",
       "<style scoped>\n",
       "    .dataframe tbody tr th:only-of-type {\n",
       "        vertical-align: middle;\n",
       "    }\n",
       "\n",
       "    .dataframe tbody tr th {\n",
       "        vertical-align: top;\n",
       "    }\n",
       "\n",
       "    .dataframe thead th {\n",
       "        text-align: right;\n",
       "    }\n",
       "</style>\n",
       "<table border=\"1\" class=\"dataframe\">\n",
       "  <thead>\n",
       "    <tr style=\"text-align: right;\">\n",
       "      <th></th>\n",
       "      <th>Temperature</th>\n",
       "      <th>Volume</th>\n",
       "    </tr>\n",
       "  </thead>\n",
       "  <tbody>\n",
       "    <tr>\n",
       "      <th>0</th>\n",
       "      <td>22.69</td>\n",
       "      <td>5528.85</td>\n",
       "    </tr>\n",
       "    <tr>\n",
       "      <th>1</th>\n",
       "      <td>28.61</td>\n",
       "      <td>10468.77</td>\n",
       "    </tr>\n",
       "    <tr>\n",
       "      <th>2</th>\n",
       "      <td>39.21</td>\n",
       "      <td>26396.95</td>\n",
       "    </tr>\n",
       "    <tr>\n",
       "      <th>3</th>\n",
       "      <td>42.31</td>\n",
       "      <td>33144.26</td>\n",
       "    </tr>\n",
       "    <tr>\n",
       "      <th>4</th>\n",
       "      <td>48.09</td>\n",
       "      <td>48875.44</td>\n",
       "    </tr>\n",
       "    <tr>\n",
       "      <th>5</th>\n",
       "      <td>55.13</td>\n",
       "      <td>74094.24</td>\n",
       "    </tr>\n",
       "    <tr>\n",
       "      <th>6</th>\n",
       "      <td>68.48</td>\n",
       "      <td>143964.94</td>\n",
       "    </tr>\n",
       "    <tr>\n",
       "      <th>7</th>\n",
       "      <td>69.65</td>\n",
       "      <td>151662.39</td>\n",
       "    </tr>\n",
       "    <tr>\n",
       "      <th>8</th>\n",
       "      <td>71.95</td>\n",
       "      <td>167561.37</td>\n",
       "    </tr>\n",
       "    <tr>\n",
       "      <th>9</th>\n",
       "      <td>98.08</td>\n",
       "      <td>433454.55</td>\n",
       "    </tr>\n",
       "  </tbody>\n",
       "</table>\n",
       "</div>"
      ],
      "text/plain": [
       "   Temperature     Volume\n",
       "0        22.69    5528.85\n",
       "1        28.61   10468.77\n",
       "2        39.21   26396.95\n",
       "3        42.31   33144.26\n",
       "4        48.09   48875.44\n",
       "5        55.13   74094.24\n",
       "6        68.48  143964.94\n",
       "7        69.65  151662.39\n",
       "8        71.95  167561.37\n",
       "9        98.08  433454.55"
      ]
     },
     "execution_count": 4,
     "metadata": {},
     "output_type": "execute_result"
    }
   ],
   "source": [
    "df"
   ]
  },
  {
   "cell_type": "markdown",
   "id": "1f0c41d8-f76c-4c73-83b3-caff1e88ca4d",
   "metadata": {},
   "source": [
    "<b>Higher degree polynomial regression (degree > 3)</b>:\n",
    "This type of regression uses a polynomial function of degree greater than 3 to fit the data. The equation is:\n",
    "\n",
    "$$y = b_0 + b_1 x + b_2 x^2 + ... + b_n x^n$$\n",
    "\n",
    "where y is the dependent variable, x is the independent variable, $b_0$ is the intercept, $b_1$ to $b_n$ are the coefficients and n is the degree of the polynomial.\n",
    "\n",
    "<i>Example: A study examining the relationship between the amount of fertilizer applied to a plant and its growth may use higher degree polynomial regression, where the degree of the polynomial may depend on the complexity of the relationship between the variables.</i>"
   ]
  },
  {
   "cell_type": "markdown",
   "id": "67bf15be-5153-467b-af0b-598de46661c8",
   "metadata": {},
   "source": [
    "### Polynomial Features Implementation"
   ]
  },
  {
   "cell_type": "code",
   "execution_count": 5,
   "id": "c9218baf-08dd-4250-9da0-054fc36e50ba",
   "metadata": {},
   "outputs": [],
   "source": [
    "class PolynomialFeatures:\n",
    "    def __init__(self, degree=2):\n",
    "        self.degree = degree\n",
    "    \n",
    "    def fit_transform(self, X):\n",
    "        # Convert input to a NumPy array\n",
    "        X = np.array(X)\n",
    "        n_samples, n_features = X.shape\n",
    "        X_poly = np.ones((n_samples, 1))\n",
    "        for d in range(1, self.degree+1):\n",
    "            X_poly = np.concatenate((X_poly, np.power(X, d)), axis=1)\n",
    "        return X_poly"
   ]
  },
  {
   "cell_type": "code",
   "execution_count": null,
   "id": "6a720863-3e8e-4128-8cea-4d81f5e97ba3",
   "metadata": {},
   "outputs": [],
   "source": []
  },
  {
   "cell_type": "code",
   "execution_count": 6,
   "id": "06145eb1-25e7-458f-b47e-49e587338d6b",
   "metadata": {},
   "outputs": [],
   "source": [
    "dataset = pd.read_csv('position_salaries.csv')"
   ]
  },
  {
   "cell_type": "code",
   "execution_count": 7,
   "id": "26bec71b-363d-4932-a56e-6f1fd22a58cd",
   "metadata": {},
   "outputs": [
    {
     "data": {
      "text/html": [
       "<div>\n",
       "<style scoped>\n",
       "    .dataframe tbody tr th:only-of-type {\n",
       "        vertical-align: middle;\n",
       "    }\n",
       "\n",
       "    .dataframe tbody tr th {\n",
       "        vertical-align: top;\n",
       "    }\n",
       "\n",
       "    .dataframe thead th {\n",
       "        text-align: right;\n",
       "    }\n",
       "</style>\n",
       "<table border=\"1\" class=\"dataframe\">\n",
       "  <thead>\n",
       "    <tr style=\"text-align: right;\">\n",
       "      <th></th>\n",
       "      <th>Position</th>\n",
       "      <th>Level</th>\n",
       "      <th>Salary</th>\n",
       "    </tr>\n",
       "  </thead>\n",
       "  <tbody>\n",
       "    <tr>\n",
       "      <th>0</th>\n",
       "      <td>Business Analyst</td>\n",
       "      <td>1</td>\n",
       "      <td>45000</td>\n",
       "    </tr>\n",
       "    <tr>\n",
       "      <th>1</th>\n",
       "      <td>Junior Consultant</td>\n",
       "      <td>2</td>\n",
       "      <td>50000</td>\n",
       "    </tr>\n",
       "    <tr>\n",
       "      <th>2</th>\n",
       "      <td>Senior Consultant</td>\n",
       "      <td>3</td>\n",
       "      <td>60000</td>\n",
       "    </tr>\n",
       "    <tr>\n",
       "      <th>3</th>\n",
       "      <td>Manager</td>\n",
       "      <td>4</td>\n",
       "      <td>80000</td>\n",
       "    </tr>\n",
       "    <tr>\n",
       "      <th>4</th>\n",
       "      <td>Country Manager</td>\n",
       "      <td>5</td>\n",
       "      <td>110000</td>\n",
       "    </tr>\n",
       "    <tr>\n",
       "      <th>5</th>\n",
       "      <td>Region Manager</td>\n",
       "      <td>6</td>\n",
       "      <td>150000</td>\n",
       "    </tr>\n",
       "    <tr>\n",
       "      <th>6</th>\n",
       "      <td>Partner</td>\n",
       "      <td>7</td>\n",
       "      <td>200000</td>\n",
       "    </tr>\n",
       "    <tr>\n",
       "      <th>7</th>\n",
       "      <td>Senior Partner</td>\n",
       "      <td>8</td>\n",
       "      <td>300000</td>\n",
       "    </tr>\n",
       "    <tr>\n",
       "      <th>8</th>\n",
       "      <td>C-level</td>\n",
       "      <td>9</td>\n",
       "      <td>500000</td>\n",
       "    </tr>\n",
       "    <tr>\n",
       "      <th>9</th>\n",
       "      <td>CEO</td>\n",
       "      <td>10</td>\n",
       "      <td>1000000</td>\n",
       "    </tr>\n",
       "  </tbody>\n",
       "</table>\n",
       "</div>"
      ],
      "text/plain": [
       "            Position  Level   Salary\n",
       "0   Business Analyst      1    45000\n",
       "1  Junior Consultant      2    50000\n",
       "2  Senior Consultant      3    60000\n",
       "3            Manager      4    80000\n",
       "4    Country Manager      5   110000\n",
       "5     Region Manager      6   150000\n",
       "6            Partner      7   200000\n",
       "7     Senior Partner      8   300000\n",
       "8            C-level      9   500000\n",
       "9                CEO     10  1000000"
      ]
     },
     "execution_count": 7,
     "metadata": {},
     "output_type": "execute_result"
    }
   ],
   "source": [
    "dataset"
   ]
  },
  {
   "cell_type": "code",
   "execution_count": 8,
   "id": "00a21879-b23d-4e73-8dd2-090c1811f606",
   "metadata": {},
   "outputs": [],
   "source": [
    "X = dataset.iloc[:, 1:-1].values\n",
    "y = dataset.iloc[:, -1].values"
   ]
  },
  {
   "cell_type": "code",
   "execution_count": 9,
   "id": "4d1f32e0-3e74-442f-bfad-a8307c966c94",
   "metadata": {},
   "outputs": [],
   "source": [
    "model = LinearRegression()\n",
    "model.fit(X, y)\n",
    "y_pred = model.predict(X)\n",
    "r2score = model.score(X, y)"
   ]
  },
  {
   "cell_type": "code",
   "execution_count": 10,
   "id": "e7ef4518-7e69-423a-96b1-5b01c6be6511",
   "metadata": {},
   "outputs": [
    {
     "data": {
      "text/plain": [
       "0.6690412331929894"
      ]
     },
     "execution_count": 10,
     "metadata": {},
     "output_type": "execute_result"
    }
   ],
   "source": [
    "r2score"
   ]
  },
  {
   "cell_type": "code",
   "execution_count": 11,
   "id": "d7a35496-a733-48fc-9735-56e8d1ca080b",
   "metadata": {},
   "outputs": [
    {
     "data": {
      "image/png": "[encoded data removed]",
      "text/plain": [
       "<Figure size 640x480 with 1 Axes>"
      ]
     },
     "metadata": {},
     "output_type": "display_data"
    }
   ],
   "source": [
    "import matplotlib.pyplot as plt\n",
    "\n",
    "# Visualising the Linear Regression results\n",
    "plt.scatter(X, y, color='red', label='')\n",
    "plt.plot(X, y_pred, color=\"black\", label='', marker='o')\n",
    "plt.title(\"Truth or Bluff (Linear Regression)\")\n",
    "plt.xlabel('Position level')\n",
    "plt.ylabel('Salry')\n",
    "plt.show()"
   ]
  },
  {
   "cell_type": "code",
   "execution_count": 12,
   "id": "0db7efe4-76d9-46da-a135-0514cc3912c0",
   "metadata": {},
   "outputs": [],
   "source": [
    "poly = PolynomialFeatures(degree=3)\n",
    "X_poly = poly.fit_transform(X)"
   ]
  },
  {
   "cell_type": "code",
   "execution_count": 13,
   "id": "06f3fe93-a6fa-4aaf-9a82-3f92387dd215",
   "metadata": {},
   "outputs": [
    {
     "data": {
      "text/plain": [
       "array([[   1.,    1.,    1.,    1.],\n",
       "       [   1.,    2.,    4.,    8.],\n",
       "       [   1.,    3.,    9.,   27.],\n",
       "       [   1.,    4.,   16.,   64.],\n",
       "       [   1.,    5.,   25.,  125.],\n",
       "       [   1.,    6.,   36.,  216.],\n",
       "       [   1.,    7.,   49.,  343.],\n",
       "       [   1.,    8.,   64.,  512.],\n",
       "       [   1.,    9.,   81.,  729.],\n",
       "       [   1.,   10.,  100., 1000.]])"
      ]
     },
     "execution_count": 13,
     "metadata": {},
     "output_type": "execute_result"
    }
   ],
   "source": [
    "X_poly"
   ]
  },
  {
   "cell_type": "code",
   "execution_count": null,
   "id": "561b8506-6b75-48be-a399-8fd2fb8c6e25",
   "metadata": {},
   "outputs": [],
   "source": []
  },
  {
   "cell_type": "code",
   "execution_count": 14,
   "id": "feb31f57-5f48-4d79-a501-4de94f4071fd",
   "metadata": {},
   "outputs": [],
   "source": [
    "poly_model = LinearRegression()\n",
    "poly_model.fit(X_poly, y)\n",
    "y_pred_poly = poly_model.predict(X_poly)\n",
    "poly_r2score = poly_model.score(X_poly, y)"
   ]
  },
  {
   "cell_type": "code",
   "execution_count": 15,
   "id": "c3115c03-a559-4c0f-ae59-ecfa6897eae0",
   "metadata": {},
   "outputs": [
    {
     "data": {
      "text/plain": [
       "0.9812097727913366"
      ]
     },
     "execution_count": 15,
     "metadata": {},
     "output_type": "execute_result"
    }
   ],
   "source": [
    "poly_r2score"
   ]
  },
  {
   "cell_type": "code",
   "execution_count": 16,
   "id": "1f54f9ef-646e-4230-905a-4ee0d55cc409",
   "metadata": {},
   "outputs": [
    {
     "data": {
      "image/png": "[encoded data removed]",
      "text/plain": [
       "<Figure size 640x480 with 1 Axes>"
      ]
     },
     "metadata": {},
     "output_type": "display_data"
    }
   ],
   "source": [
    "# Visualising the Polynomial Regression results\n",
    "plt.scatter(X, y, color='red', label='')\n",
    "plt.plot(X, y_pred_poly, color=\"black\", label='')\n",
    "plt.title(\"Truth or Bluff (Polynomial Regression)\")\n",
    "plt.xlabel('Position level')\n",
    "plt.ylabel('Salry')\n",
    "plt.show()"
   ]
  },
  {
   "cell_type": "code",
   "execution_count": 17,
   "id": "5f70021e-020e-45a4-92f7-49bc1c224a6c",
   "metadata": {},
   "outputs": [],
   "source": [
    "# Visualising the Polynomial Regression results \n",
    "# (for higher resolution and smoother curve)\n",
    "\n",
    "x_grid = np.arange(X.min(), X.max(), 0.1)\n",
    "x_grid = x_grid.reshape(len(x_grid), 1)"
   ]
  },
  {
   "cell_type": "code",
   "execution_count": 18,
   "id": "1b7e569e-56c6-4886-8ed9-fa0c33c127eb",
   "metadata": {},
   "outputs": [
    {
     "data": {
      "text/plain": [
       "(90, 1)"
      ]
     },
     "execution_count": 18,
     "metadata": {},
     "output_type": "execute_result"
    }
   ],
   "source": [
    "x_grid.shape"
   ]
  },
  {
   "cell_type": "code",
   "execution_count": 19,
   "id": "a0b32eaa-5d13-40ce-922f-aa2c1562fa14",
   "metadata": {},
   "outputs": [
    {
     "data": {
      "image/png": "[encoded data removed]",
      "text/plain": [
       "<Figure size 640x480 with 1 Axes>"
      ]
     },
     "metadata": {},
     "output_type": "display_data"
    }
   ],
   "source": [
    "plt.scatter(X, y, color='red')\n",
    "plt.plot(x_grid, poly_model.predict(poly.fit_transform(x_grid)), color=\"black\")\n",
    "plt.title(\"Truth or Bluff (Polynomial Regression)\")\n",
    "plt.xlabel('Position level')\n",
    "plt.ylabel('Salry')\n",
    "plt.show()"
   ]
  },
  {
   "cell_type": "code",
   "execution_count": null,
   "id": "76a12ef4-fa4c-4d9c-b9ef-b875eaab5723",
   "metadata": {},
   "outputs": [],
   "source": []
  },
  {
   "cell_type": "markdown",
   "id": "6749d9bf-fc1b-476f-9ba2-a69530094df6",
   "metadata": {},
   "source": [
    "Position level: 6.5"
   ]
  },
  {
   "cell_type": "markdown",
   "id": "68be7f1f-d6b7-46bb-8ecc-1144fbed6378",
   "metadata": {},
   "source": [
    "Predicting a new result with <b>Linear Regression</b>"
   ]
  },
  {
   "cell_type": "code",
   "execution_count": 20,
   "id": "dbc8d219-a0c9-4cd9-85ce-efb85aa86e96",
   "metadata": {},
   "outputs": [
    {
     "data": {
      "text/plain": [
       "array([330378.78787879])"
      ]
     },
     "execution_count": 20,
     "metadata": {},
     "output_type": "execute_result"
    }
   ],
   "source": [
    "model.predict([[6.5]])  # Salary"
   ]
  },
  {
   "cell_type": "code",
   "execution_count": null,
   "id": "8dbe0798-4ff8-4373-a3e0-fd9c39c73698",
   "metadata": {},
   "outputs": [],
   "source": []
  },
  {
   "cell_type": "markdown",
   "id": "a479a74c-a7c4-4d43-aeda-7ad8cbd18d30",
   "metadata": {},
   "source": [
    "Predicting a new result with <b>Polynomial Regression</b>"
   ]
  },
  {
   "cell_type": "code",
   "execution_count": 21,
   "id": "d2bb39a5-247f-44b8-993e-9b77876cc32f",
   "metadata": {},
   "outputs": [
    {
     "data": {
      "text/plain": [
       "array([133259.46969697])"
      ]
     },
     "execution_count": 21,
     "metadata": {},
     "output_type": "execute_result"
    }
   ],
   "source": [
    "poly_model.predict(poly.fit_transform([[6.5]]))  # Salary"
   ]
  },
  {
   "cell_type": "code",
   "execution_count": null,
   "id": "3eec2c1e-3b93-4b9c-928f-3955dbc65cc3",
   "metadata": {},
   "outputs": [],
   "source": []
  },
  {
   "cell_type": "markdown",
   "id": "c18bea68-4fb9-427d-bb12-a9bae1d265a6",
   "metadata": {},
   "source": [
    "### Scikit-Learn "
   ]
  },
  {
   "cell_type": "code",
   "execution_count": 22,
   "id": "9b4dd7dd-5457-46a0-8ca1-177c004582bd",
   "metadata": {},
   "outputs": [],
   "source": [
    "from sklearn.model_selection import train_test_split, GridSearchCV\n",
    "from sklearn.preprocessing import PolynomialFeatures, StandardScaler\n",
    "from sklearn.linear_model import LinearRegression\n",
    "from sklearn.pipeline import Pipeline, make_pipeline\n",
    "from sklearn.metrics import r2_score "
   ]
  },
  {
   "cell_type": "code",
   "execution_count": 23,
   "id": "2bc8cf25-d28f-44c4-92aa-e59ef99ca7fc",
   "metadata": {},
   "outputs": [],
   "source": [
    "# load data into a pandas dataframe\n",
    "data = pd.read_csv('position_salaries.csv')"
   ]
  },
  {
   "cell_type": "code",
   "execution_count": 24,
   "id": "f0c1bf24-3ce3-4e4a-9d23-4e7479ab8689",
   "metadata": {},
   "outputs": [],
   "source": [
    "# separate the feature and the target variable\n",
    "X = dataset.iloc[:, 1:-1].values\n",
    "y = dataset.iloc[:, -1].values"
   ]
  },
  {
   "cell_type": "code",
   "execution_count": 25,
   "id": "f01c4c42-b90b-4a17-a08f-5fbe80617f22",
   "metadata": {},
   "outputs": [
    {
     "data": {
      "text/plain": [
       "array([[ 1],\n",
       "       [ 2],\n",
       "       [ 3],\n",
       "       [ 4],\n",
       "       [ 5],\n",
       "       [ 6],\n",
       "       [ 7],\n",
       "       [ 8],\n",
       "       [ 9],\n",
       "       [10]], dtype=int64)"
      ]
     },
     "execution_count": 25,
     "metadata": {},
     "output_type": "execute_result"
    }
   ],
   "source": [
    "X"
   ]
  },
  {
   "cell_type": "code",
   "execution_count": 26,
   "id": "1256001c-80c4-4122-8486-b02126d63da7",
   "metadata": {},
   "outputs": [
    {
     "data": {
      "text/plain": [
       "array([  45000,   50000,   60000,   80000,  110000,  150000,  200000,\n",
       "        300000,  500000, 1000000], dtype=int64)"
      ]
     },
     "execution_count": 26,
     "metadata": {},
     "output_type": "execute_result"
    }
   ],
   "source": [
    "y"
   ]
  },
  {
   "cell_type": "code",
   "execution_count": 27,
   "id": "f9686656-af6e-41a2-b6d9-c37955864b09",
   "metadata": {},
   "outputs": [],
   "source": [
    "# split the data into training and testing sets\n",
    "X_train, X_test, y_train, y_test = train_test_split(X, y, test_size=0.3, random_state=42)"
   ]
  },
  {
   "cell_type": "code",
   "execution_count": 28,
   "id": "019468b4-d5c9-4df6-a736-3ca7d074ea00",
   "metadata": {},
   "outputs": [
    {
     "data": {
      "text/plain": [
       "array([[ 1],\n",
       "       [ 8],\n",
       "       [ 3],\n",
       "       [10],\n",
       "       [ 5],\n",
       "       [ 4],\n",
       "       [ 7]], dtype=int64)"
      ]
     },
     "execution_count": 28,
     "metadata": {},
     "output_type": "execute_result"
    }
   ],
   "source": [
    "X_train"
   ]
  },
  {
   "cell_type": "code",
   "execution_count": 29,
   "id": "75241ab0-be49-418f-847c-8d249522527b",
   "metadata": {},
   "outputs": [
    {
     "data": {
      "text/plain": [
       "array([  45000,  300000,   60000, 1000000,  110000,   80000,  200000],\n",
       "      dtype=int64)"
      ]
     },
     "execution_count": 29,
     "metadata": {},
     "output_type": "execute_result"
    }
   ],
   "source": [
    "y_train"
   ]
  },
  {
   "cell_type": "code",
   "execution_count": 30,
   "id": "d7bd1763-cdbc-4d6b-a674-b36c4f18718d",
   "metadata": {},
   "outputs": [],
   "source": [
    "# create a polynomial feature object of degree 2\n",
    "poly = PolynomialFeatures(degree=2)"
   ]
  },
  {
   "cell_type": "code",
   "execution_count": 31,
   "id": "950ebd8a-4eb4-484e-9b53-7e510bc51032",
   "metadata": {},
   "outputs": [],
   "source": [
    "# fit and transform the training data into polynomial features\n",
    "X_train_poly = poly.fit_transform(X_train)"
   ]
  },
  {
   "cell_type": "code",
   "execution_count": 32,
   "id": "820c8099-0aa7-4187-a459-812421b2791b",
   "metadata": {},
   "outputs": [
    {
     "data": {
      "text/plain": [
       "array([[  1.,   1.,   1.],\n",
       "       [  1.,   8.,  64.],\n",
       "       [  1.,   3.,   9.],\n",
       "       [  1.,  10., 100.],\n",
       "       [  1.,   5.,  25.],\n",
       "       [  1.,   4.,  16.],\n",
       "       [  1.,   7.,  49.]])"
      ]
     },
     "execution_count": 32,
     "metadata": {},
     "output_type": "execute_result"
    }
   ],
   "source": [
    "X_train_poly"
   ]
  },
  {
   "cell_type": "code",
   "execution_count": 33,
   "id": "bcb12281-ec98-4b60-9523-43efb4dda819",
   "metadata": {},
   "outputs": [],
   "source": [
    "# create a linear regression object\n",
    "regressor = LinearRegression()"
   ]
  },
  {
   "cell_type": "code",
   "execution_count": 34,
   "id": "b11d2b21-52c8-40d3-bba1-59b1745697e8",
   "metadata": {},
   "outputs": [
    {
     "data": {
      "text/plain": [
       "LinearRegression()"
      ]
     },
     "execution_count": 34,
     "metadata": {},
     "output_type": "execute_result"
    }
   ],
   "source": [
    "# fit the polynomial features to the linear regression model\n",
    "regressor.fit(X_train_poly, y_train)"
   ]
  },
  {
   "cell_type": "code",
   "execution_count": 35,
   "id": "10bec43a-e6e9-4ba1-9670-aeb373deffeb",
   "metadata": {},
   "outputs": [],
   "source": [
    "# transform the testing data into polynomial features\n",
    "X_test_poly = poly.transform(X_test)"
   ]
  },
  {
   "cell_type": "code",
   "execution_count": 36,
   "id": "e17274ba-071e-4319-81ce-d6adb96eaaa2",
   "metadata": {},
   "outputs": [
    {
     "data": {
      "text/plain": [
       "array([[ 1.,  9., 81.],\n",
       "       [ 1.,  2.,  4.],\n",
       "       [ 1.,  6., 36.]])"
      ]
     },
     "execution_count": 36,
     "metadata": {},
     "output_type": "execute_result"
    }
   ],
   "source": [
    "X_test_poly"
   ]
  },
  {
   "cell_type": "code",
   "execution_count": 37,
   "id": "a8c343be-38b4-47d6-a62c-ae47e9a3e4a6",
   "metadata": {},
   "outputs": [],
   "source": [
    "# make predictions using the polynomial regression model\n",
    "y_pred = regressor.predict(X_test_poly)"
   ]
  },
  {
   "cell_type": "code",
   "execution_count": 38,
   "id": "db11bff1-2d51-49de-8529-d6e1212072d1",
   "metadata": {},
   "outputs": [
    {
     "name": "stdout",
     "output_type": "stream",
     "text": [
      "R^2 score: 0.7896604512664294\n"
     ]
    }
   ],
   "source": [
    "# evaluate the model using various metrics\n",
    "print('R^2 score:', r2_score(y_test, y_pred))"
   ]
  },
  {
   "cell_type": "code",
   "execution_count": null,
   "id": "4f0706a6-43d6-4a83-86aa-d5bb1e54972c",
   "metadata": {},
   "outputs": [],
   "source": []
  },
  {
   "cell_type": "code",
   "execution_count": 39,
   "id": "c7fd35d6-06af-484e-9d29-5254ab6379ff",
   "metadata": {},
   "outputs": [],
   "source": [
    "# create a pipeline for polynomial regression with preprocessing\n",
    "pipeline = Pipeline([\n",
    "    ('scaler', StandardScaler()),\n",
    "    ('poly', PolynomialFeatures()),\n",
    "    ('regressor', LinearRegression())\n",
    "])"
   ]
  },
  {
   "cell_type": "code",
   "execution_count": 40,
   "id": "86820a07-7d9a-4543-85fd-0aaa9e198dea",
   "metadata": {},
   "outputs": [],
   "source": [
    "# set the hyperparameters to search over\n",
    "param_grid = {\n",
    "    'poly__degree': [1, 2, 3, 4, 5, 6, 7, 8, 9, 10]\n",
    "}"
   ]
  },
  {
   "cell_type": "code",
   "execution_count": 41,
   "id": "532200e6-1ace-429e-9fa0-cf285e2a944d",
   "metadata": {},
   "outputs": [
    {
     "data": {
      "text/plain": [
       "GridSearchCV(cv=5,\n",
       "             estimator=Pipeline(steps=[('scaler', StandardScaler()),\n",
       "                                       ('poly', PolynomialFeatures()),\n",
       "                                       ('regressor', LinearRegression())]),\n",
       "             param_grid={'poly__degree': [1, 2, 3, 4, 5, 6, 7, 8, 9, 10]},\n",
       "             scoring='neg_mean_squared_error')"
      ]
     },
     "execution_count": 41,
     "metadata": {},
     "output_type": "execute_result"
    }
   ],
   "source": [
    "# perform grid search with cross-validation\n",
    "grid_search = GridSearchCV(pipeline, param_grid=param_grid, cv=5, scoring='neg_mean_squared_error')\n",
    "grid_search.fit(X_train, y_train)"
   ]
  },
  {
   "cell_type": "code",
   "execution_count": 42,
   "id": "c3a135a8-2a20-43cb-8f00-59a6aa9eab1a",
   "metadata": {},
   "outputs": [],
   "source": [
    "# Note: The R^2 score is not well-defined due to the low number of samples.\n",
    "# grid_search = GridSearchCV(pipeline, param_grid=param_grid, cv=5, scoring='r2')"
   ]
  },
  {
   "cell_type": "code",
   "execution_count": 43,
   "id": "2ccfc4eb-2490-466a-b373-736380129817",
   "metadata": {},
   "outputs": [
    {
     "name": "stdout",
     "output_type": "stream",
     "text": [
      "Best parameters: {'poly__degree': 6}\n"
     ]
    }
   ],
   "source": [
    "# print the best hyperparameters and the corresponding score\n",
    "# print('Best score:', grid_search.best_score_)\n",
    "print('Best parameters:', grid_search.best_params_)"
   ]
  },
  {
   "cell_type": "code",
   "execution_count": 44,
   "id": "24fd1f51-5da8-4ab8-9e52-b4f6341dbb2f",
   "metadata": {},
   "outputs": [],
   "source": [
    "# evaluate the model using the best hyperparameters\n",
    "best_regressor = grid_search.best_estimator_\n",
    "best_regressor.fit(X_train, y_train)\n",
    "y_pred = best_regressor.predict(X_test)"
   ]
  },
  {
   "cell_type": "code",
   "execution_count": 45,
   "id": "4b527b1b-e08e-4562-9a94-25d3778b516f",
   "metadata": {},
   "outputs": [],
   "source": [
    "# The mean_squared_errorr and 2_score are still calculated in the same way as before"
   ]
  },
  {
   "cell_type": "code",
   "execution_count": 46,
   "id": "01bbc4f8-54f3-49f2-b3e5-096db48e3d9a",
   "metadata": {},
   "outputs": [
    {
     "name": "stdout",
     "output_type": "stream",
     "text": [
      "R^2 score: 0.9958043368443747\n"
     ]
    }
   ],
   "source": [
    "print('R^2 score:', r2_score(y_test, y_pred))"
   ]
  },
  {
   "cell_type": "code",
   "execution_count": null,
   "id": "7759f319-8146-4c2c-8ca5-a3bdd4acefa9",
   "metadata": {},
   "outputs": [],
   "source": []
  },
  {
   "cell_type": "code",
   "execution_count": 47,
   "id": "c278143b-3532-4043-bbf9-57a0b7b9f7b9",
   "metadata": {},
   "outputs": [
    {
     "data": {
      "image/png": "[encoded data removed]",
      "text/plain": [
       "<Figure size 640x480 with 1 Axes>"
      ]
     },
     "metadata": {},
     "output_type": "display_data"
    }
   ],
   "source": [
    "# create a list of polynomial degrees to test\n",
    "degrees = [1, 2, 3, 4, 5, 6, 7, 8, 9, 10]\n",
    "\n",
    "# create lists to store the training and test scores for each degree\n",
    "train_scores = []\n",
    "test_scores = []\n",
    "\n",
    "# iterate over each degree\n",
    "for degree in degrees:\n",
    "    # create a polynomial features object with the current degree\n",
    "    poly = PolynomialFeatures(degree=degree)\n",
    "    \n",
    "    # create a pipeline with the polynomial features object and a linear regression object\n",
    "    pipeline = make_pipeline(poly, LinearRegression())\n",
    "\n",
    "    # fit the pipeline to the training data\n",
    "    pipeline.fit(X_train, y_train)\n",
    "    \n",
    "    # calculate the R^2 score for the training data\n",
    "    train_score = pipeline.score(X_train, y_train)\n",
    "    train_scores.append(train_score)\n",
    "    \n",
    "    # calculate the R^2 score for the test data\n",
    "    test_score = pipeline.score(X_test, y_test)\n",
    "    test_scores.append(test_score)\n",
    "    \n",
    "    y_pred = pipeline.predict(X_test)\n",
    "\n",
    "# plot the training and test scores as a function of the polynomial degree\n",
    "plt.plot(degrees, train_scores, label='Training score')\n",
    "plt.plot(degrees, test_scores, label='Test score')\n",
    "plt.xlabel('Polynomial degree')\n",
    "plt.ylabel('R^2 score')\n",
    "plt.legend()\n",
    "plt.show()"
   ]
  },
  {
   "cell_type": "code",
   "execution_count": null,
   "id": "2c39bbbf-62e3-46e6-b99f-43ce2fb4b8b4",
   "metadata": {},
   "outputs": [],
   "source": []
  },
  {
   "cell_type": "markdown",
   "id": "f330a501-7f22-48fb-b613-f75c6ee5de40",
   "metadata": {
    "tags": []
   },
   "source": [
    "Linear regression and Nonlinear regression are two types of algorithms used in machine learning for regression tasks. Here are some commonly used algorithms in each category:\n",
    "\n",
    "<b>Linear Regression</b>:\n",
    "\n",
    "- Ordinary least squares (OLS) regression\n",
    "- Ridge regression\n",
    "- Lasso regression\n",
    "- Elastic Net regression\n",
    "- Polynomial regression\n",
    "- Bayesian regression\n",
    "- Stochastic gradient descent regression (SGD)\n",
    "\n",
    "<b>Nonlinear Regression</b>:\n",
    "\n",
    "- K-nearest neighbors (KNN) regression\n",
    "- Support vector regression (SVR)\n",
    "- Decision tree regression\n",
    "- Random forest regression\n",
    "- Gradient boosting regression\n",
    "- Artificial neural network (ANN) regression"
   ]
  },
  {
   "cell_type": "code",
   "execution_count": null,
   "id": "02ea52e9-39d3-4aad-8b83-450327147ef5",
   "metadata": {},
   "outputs": [],
   "source": []
  },
  {
   "cell_type": "markdown",
   "id": "081e08ba-92ca-4dc8-b474-daf192193c30",
   "metadata": {},
   "source": [
    "### Happy Learning :)"
   ]
  }
 ],
 "metadata": {
  "kernelspec": {
   "display_name": "Python 3 (ipykernel)",
   "language": "python",
   "name": "python3"
  },
  "language_info": {
   "codemirror_mode": {
    "name": "ipython",
    "version": 3
   },
   "file_extension": ".py",
   "mimetype": "text/x-python",
   "name": "python",
   "nbconvert_exporter": "python",
   "pygments_lexer": "ipython3",
   "version": "3.9.13"
  }
 },
 "nbformat": 4,
 "nbformat_minor": 5
}
